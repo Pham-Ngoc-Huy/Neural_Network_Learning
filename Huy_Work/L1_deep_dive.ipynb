{
 "cells": [
  {
   "cell_type": "markdown",
   "id": "d20b7971",
   "metadata": {},
   "source": [
    "### IMPORT LIB"
   ]
  },
  {
   "cell_type": "code",
   "execution_count": 84,
   "id": "76cdac82",
   "metadata": {},
   "outputs": [],
   "source": [
    "import pandas as pd\n",
    "import numpy as np\n",
    "import matplotlib.pyplot as plt"
   ]
  },
  {
   "cell_type": "markdown",
   "id": "1cdfe370",
   "metadata": {},
   "source": [
    "### DATA IMPORT"
   ]
  },
  {
   "cell_type": "code",
   "execution_count": 85,
   "id": "8741fdec",
   "metadata": {},
   "outputs": [],
   "source": [
    "data = pd.read_csv('/root/Neural_Network/DL_Tutorial/L1/data_linear.csv').values"
   ]
  },
  {
   "cell_type": "markdown",
   "id": "0984219a",
   "metadata": {
    "tags": [
     "Neural_Netword"
    ]
   },
   "source": [
    "### DATA MINING"
   ]
  },
  {
   "cell_type": "code",
   "execution_count": 86,
   "id": "26e05d09",
   "metadata": {},
   "outputs": [],
   "source": [
    "N = data.shape[0]"
   ]
  },
  {
   "cell_type": "code",
   "execution_count": 87,
   "id": "68956224",
   "metadata": {},
   "outputs": [],
   "source": [
    "x = data[:, 0].reshape(-1, 1)"
   ]
  },
  {
   "cell_type": "code",
   "execution_count": 88,
   "id": "9d923b2c",
   "metadata": {},
   "outputs": [],
   "source": [
    "y = data[:,1].reshape(-1,1)"
   ]
  },
  {
   "cell_type": "code",
   "execution_count": 89,
   "id": "8161620d",
   "metadata": {},
   "outputs": [],
   "source": [
    "x = np.hstack((np.ones((N, 1)), x))"
   ]
  },
  {
   "cell_type": "markdown",
   "id": "341f0b07",
   "metadata": {},
   "source": [
    "### Create list of w[0], and w[1]"
   ]
  },
  {
   "cell_type": "code",
   "execution_count": 90,
   "id": "c2f3f360",
   "metadata": {},
   "outputs": [],
   "source": [
    "w =  np.array([0.,1.]).reshape(-1, 1)"
   ]
  },
  {
   "cell_type": "code",
   "execution_count": 91,
   "id": "3aae2095",
   "metadata": {},
   "outputs": [],
   "source": [
    "num_iteration = 1000"
   ]
  },
  {
   "cell_type": "markdown",
   "id": "cb4ecc6b",
   "metadata": {},
   "source": [
    "### Create list_cost to store value of w after each interation"
   ]
  },
  {
   "cell_type": "code",
   "execution_count": 92,
   "id": "c4cbfa9c",
   "metadata": {},
   "outputs": [],
   "source": [
    "cost = np.zeros((num_iteration, 1))"
   ]
  },
  {
   "cell_type": "code",
   "execution_count": 93,
   "id": "0e03dcf2",
   "metadata": {},
   "outputs": [],
   "source": [
    "learning_rate = 0.000001"
   ]
  },
  {
   "cell_type": "markdown",
   "id": "b5ea0ef1",
   "metadata": {},
   "source": [
    "### Gradient Descent"
   ]
  },
  {
   "cell_type": "code",
   "execution_count": 94,
   "id": "df87c908",
   "metadata": {},
   "outputs": [],
   "source": [
    "for i in range(num_iteration):\n",
    "    y_hat = np.dot(x,w) # y_hat = w1*x + w2 with x is [1,x]\n",
    "    error = y_hat -y\n",
    "    cost[i] = 0.5 * np.sum(error**2)    \n",
    "    # adjust the w after every iteration\n",
    "    w[0] -= learning_rate *np.sum(error)\n",
    "    \n",
    "    w[1] -= learning_rate*np.sum(np.multiply(error, x[:, 1].reshape(-1, 1)))"
   ]
  },
  {
   "cell_type": "markdown",
   "id": "20614681",
   "metadata": {},
   "source": [
    "### Predict Step"
   ]
  },
  {
   "cell_type": "code",
   "execution_count": 95,
   "id": "0eb9bd6a",
   "metadata": {},
   "outputs": [
    {
     "name": "stdout",
     "output_type": "stream",
     "text": [
      "w1:  [0.17638724]\n",
      "w2:  [15.11012487]\n",
      "y1:  [755.68263055]\n"
     ]
    }
   ],
   "source": [
    "# now we have the w with the best fit\n",
    "x1 = 50\n",
    "y1 = w[0] + w[1]*x1\n",
    "print(\"w1: \", w[0])\n",
    "print(\"w2: \", w[1])\n",
    "print(\"y1: \", y1)"
   ]
  }
 ],
 "metadata": {
  "kernelspec": {
   "display_name": ".venv",
   "language": "python",
   "name": "python3"
  },
  "language_info": {
   "codemirror_mode": {
    "name": "ipython",
    "version": 3
   },
   "file_extension": ".py",
   "mimetype": "text/x-python",
   "name": "python",
   "nbconvert_exporter": "python",
   "pygments_lexer": "ipython3",
   "version": "3.12.3"
  }
 },
 "nbformat": 4,
 "nbformat_minor": 5
}
